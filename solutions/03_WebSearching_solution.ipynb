{
 "cells": [
  {
   "cell_type": "markdown",
   "id": "967b4d75",
   "metadata": {},
   "source": [
    "# Assignment 03\n",
    "## Web Search\n",
    "## CSCI S-96    \n",
    "\n",
    "> **Instructions:** For this assignment you will complete the exercises shown. All exercises involve creating and executing some Python code. Additionally, most exercises have questions for you to answer. You can answer questions by creating a Markdown cell and writing your answer. If you are not familiar with Markdown, you can find a brief tutorial [here](https://www.markdownguide.org/cheat-sheet/).     \n",
    "\n",
    "In this assignment you will gain some experience and insight into how web search algorithms work. Specifically, you will implement versions of three algorithms, simple PageRank, PageRank with damping, and the HITS algorithm. All three of these algorithms use a directed graph model of the web.   \n",
    "\n",
    "Data small scale examples and coding methods used here are not directly scalable to web sized problems. Rather, the point is for you to understand the basic characteristics of these web search algorithms. Web scale searching requires massive resources not readily available to most people. "
   ]
  },
  {
   "cell_type": "markdown",
   "id": "c4218530",
   "metadata": {},
   "source": [
    "## Simple PageRank Example\n",
    "\n",
    "To get a feeling for the basics of the PageRank algorithm you will create and test simple code. \n",
    "\n",
    "As a first step, execute the code in the cell below to import the packages you will need for the exercises. "
   ]
  },
  {
   "cell_type": "code",
   "execution_count": 1,
   "id": "60a1d748",
   "metadata": {},
   "outputs": [],
   "source": [
    "import numpy as np"
   ]
  },
  {
   "cell_type": "markdown",
   "id": "320e8bbe",
   "metadata": {},
   "source": [
    "We will start with a simple example. Figure 1 shows a set of web pages and their hyperlinks. This is a directed graph with the pages as nodes and the hyperlinks as the directed edges. This graph is **complete**. Every page is accessable from any other page, possibly with visits to intermediate nodes required.  \n",
    "\n",
    "<img src=\"../images/web1.png\" alt=\"Drawing\" style=\"width:500px; height:400px\"/>\n",
    "<center>Figure 1: A small set of web pages</center>\n",
    "\n",
    "The directed edges of the graph define the association between the nodes. A directed edge, or hyperlink, runs from a node's column to another node's row. The association is binary. The directed edge either exists or it does not. "
   ]
  },
  {
   "cell_type": "markdown",
   "id": "af1a3f1b",
   "metadata": {},
   "source": [
    "> **Exercise 03-1:** In the cell below you will create the association matrix and the initial page probability vector. Do the following:  \n",
    "> 1. Create the association matrix, $A$, using [numpy.array](https://numpy.org/doc/stable/reference/generated/numpy.array.html). This matrix is constructed with a 1 where a page in a column links to another page, and 0 elsewhere.  \n",
    "> 2. Print the shape of your association matrix as a check of your association matrix.\n",
    "> 3. Print the in degree and out degree of your association matrix, using [numpy.sum](https://numpy.org/doc/stable/reference/generated/numpy.sum.html). Set the argument `axis` to 1 to sum across rows and 0 to sum down columns. \n",
    "> 3. Create the uniformly distributed page probability vector, $p$, using `numpy.array`. \n",
    "> 4. Verify that the page probability vector sums to 1.0 using `numpy.sum`."
   ]
  },
  {
   "cell_type": "code",
   "execution_count": 2,
   "id": "78bcdbf0",
   "metadata": {},
   "outputs": [
    {
     "name": "stdout",
     "output_type": "stream",
     "text": [
      "(5, 5)\n",
      "[2 1 1 4 3]\n",
      "[3 3 2 2 1]\n",
      "1.0\n"
     ]
    }
   ],
   "source": [
    "## Create the Association Matrix and print the summary\n",
    "## Put your code below\n",
    "A = np.array([[0,1,0,1,0],\n",
    "            [1,0,0,0,0],\n",
    "            [1,0,0,0,0],\n",
    "            [1,1,1,0,1],\n",
    "            [0,1,1,1,0]])\n",
    "print(A.shape)\n",
    "print(np.sum(A, axis=1))\n",
    "print(np.sum(A, axis=0))\n",
    "\n",
    "## Create the equal probability starting values\n",
    "## Put your code below\n",
    "p = np.array([0.2,0.2,0.2,0.2,0.2])\n",
    "print(np.sum(p))"
   ]
  },
  {
   "cell_type": "markdown",
   "id": "4723ad6b",
   "metadata": {},
   "source": [
    "> Answer the following questions:  \n",
    "> - Are the out degree and in degree you computed from the association matrix consistent with the graph? \n",
    "> - Are the page probabilities a proper distribution summing to 1.0? \n",
    "> **End of exercise.**"
   ]
  },
  {
   "cell_type": "markdown",
   "id": "e1fc5fd8",
   "metadata": {},
   "source": [
    "For the PageRank algorithm we must normalize the association matrix by the inverse of the out degree of each page. This normalization uniformly distributes the influence of each page on the PageRank of the other pages over its out degree. The calculation of the out degree of a network is illustrated in Figure 2.  \n",
    "\n",
    "<img src=\"../images/outdegree.png\" alt=\"Drawing\" style=\"width:400px; height:200px\"/>\n",
    "<center>Figure 2: Example of computing out degree from an association matrix</center>\n",
    "\n",
    "The normalized transition probability matrix, $M$, is then computed from the association matrix, $A$: \n",
    "\n",
    "$$M = A D^{-1}$$\n",
    "\n",
    "Where, $D^{-1}$ is the inverse of a matrix with the out degree values on the diagonal and zeros elsewhere.  \n",
    "\n",
    "You can see from the foregoing that $M$ distributes the influence of the page by the in|verse of the out degree. In other words, the influence is inversely weighted by the number of pages each page links to. "
   ]
  },
  {
   "cell_type": "markdown",
   "id": "2cd99dfa",
   "metadata": {},
   "source": [
    "> **Exercise 03-2:** You will now compute the normalized transition matrix, $M$. To do so create a function called `norm_association` with the association matrix as the argument. Do the following: \n",
    "> 1. Create your function `norm_association` which will do the following:  \n",
    ">    - Compute the sum of the columns of the association matrix using `numpy.sum` with the `axis=0` argument to sum along columns. \n",
    ">   - Compute the inverse of the column sums as a vector. Be sure to avoid zero divides, which will occur in subsequent exercises. If the column sum is 0 set the inverse to zero.   \n",
    ">   - Create a square diagonal matrix from the inverse column sums using [numpy.diag](https://numpy.org/doc/stable/reference/generated/numpy.diag.html) to form the inverse out degree diagonal matrix.\n",
    ">  - Finally, return the matrix product of the association matrix and inverse out degree matrix using [numpy.matmul](https://numpy.org/doc/stable/reference/generated/numpy.matmul.html).  \n",
    "2. Execute your function on the association matrix you computed. Save and print the normalized transition matrix, and examine the result.  "
   ]
  },
  {
   "cell_type": "code",
   "execution_count": 3,
   "id": "352c67ef",
   "metadata": {},
   "outputs": [
    {
     "data": {
      "text/plain": [
       "array([[0.        , 0.33333333, 0.        , 0.5       , 0.        ],\n",
       "       [0.33333333, 0.        , 0.        , 0.        , 0.        ],\n",
       "       [0.33333333, 0.        , 0.        , 0.        , 0.        ],\n",
       "       [0.33333333, 0.33333333, 0.5       , 0.        , 1.        ],\n",
       "       [0.        , 0.33333333, 0.5       , 0.5       , 0.        ]])"
      ]
     },
     "execution_count": 3,
     "metadata": {},
     "output_type": "execute_result"
    }
   ],
   "source": [
    "def norm_association(A):\n",
    "    '''Function to normalize the association matrix by out degree.\n",
    "    The function accounts for cases where the column sum is 0'''\n",
    "    ## Put your code below\n",
    "    col_sum = np.sum(A, axis=0)\n",
    "    d = [0.0]*len(col_sum)\n",
    "    for i,x in enumerate(col_sum): \n",
    "        if x > .0001: d[i] = 1.0/x  \n",
    "    D_inv = np.diag(d)\n",
    "    return np.matmul(A,D_inv)\n",
    "\n",
    "## Execute the function\n",
    "## Put your code below\n",
    "M = norm_association(A)\n",
    "M"
   ]
  },
  {
   "cell_type": "markdown",
   "id": "226c5d12",
   "metadata": {},
   "source": [
    "> Does the result look correct based on the out degree of each page on the graph?  \n",
    "> **End of exercise.**"
   ]
  },
  {
   "cell_type": "markdown",
   "id": "c15a3d18",
   "metadata": {},
   "source": [
    "With the transition probability matrix, $M$ computed it is time to investigate the convergence of the PageRank algorithm. You can think of the PageRank algorithm as a series of transitions of a Markov Chain. Given the transition probability matrix, $M$, the update, or single Markov transition, of the page probabilities, $p_i$, is computed: \n",
    "\n",
    "$$p_i = M p_{i-1}$$\n",
    "\n",
    "The Markov chain can be executed for a great many transitions. The result of $n$ transitions, starting from an initial set of page probabilities, $p_0$, can be written:  \n",
    "\n",
    "$$p_n = M^n p_{0}$$\n",
    "\n",
    "At convergence the page probabilities, $p_n$, approach a constant or **steady state** value. This steady state probability vector values are the PageRank of the web pages.  "
   ]
  },
  {
   "cell_type": "markdown",
   "id": "7da47d2b",
   "metadata": {},
   "source": [
    "> **Exercise 03-3:** You will now create and execute code with the goal of getting a feel for how the page probabilities change for a single transition of a Markov process. The accomplish this task you will create a function called `transition` with arguments of the the normalized transition probability matrix and the vector of page probabilities. Specifically you will:   \n",
    "> 1. Create the function `transition` which uses [numpy.dot](https://numpy.org/doc/stable/reference/generated/numpy.dot.html) to compute the product of the transition matrix and the page probability vector.  \n",
    "> 2. Execute the `transition` function on the normalized transition probability matrix and vector of initial page probabilities you have created, saving the result. \n",
    "> 3. Print the Euclidean (L2) norm of the difference between the initial page probabilities and the updated page probabilities. \n",
    "> 4. Print the sum of the page probabilities computed with `transition` along with the actual vector of values. "
   ]
  },
  {
   "cell_type": "code",
   "execution_count": 4,
   "id": "83e71abd",
   "metadata": {},
   "outputs": [
    {
     "name": "stdout",
     "output_type": "stream",
     "text": [
      "0.30912061651652345\n",
      "1.0\n"
     ]
    },
    {
     "data": {
      "text/plain": [
       "array([0.16666667, 0.06666667, 0.06666667, 0.43333333, 0.26666667])"
      ]
     },
     "execution_count": 4,
     "metadata": {},
     "output_type": "execute_result"
    }
   ],
   "source": [
    "def transition(transition_probs, probs):\n",
    "    '''Function to compute the probabilities resulting from a \n",
    "    single transition of a Markov process'''\n",
    "    ## Put your code below\n",
    "    return np.dot(transition_probs, probs)\n",
    "\n",
    "## Compute probabilities after first state trasnition and print the sumamries\n",
    "## Put your code below\n",
    "p1 = transition(M, p)\n",
    "print(np.linalg.norm(np.subtract(p,p1)))\n",
    "print(np.sum(p1))\n",
    "p1"
   ]
  },
  {
   "cell_type": "markdown",
   "id": "63564579",
   "metadata": {},
   "source": [
    "> Is the sum of the page probabilities equal to 1.0 as it should be? Considering in degree of the pages, are the relative changes in the page probabilities what you would expect and why.  \n",
    "> **End of exercise.**"
   ]
  },
  {
   "cell_type": "markdown",
   "id": "3434f366",
   "metadata": {},
   "source": [
    "> **Exercise 03-4:** You will continue with computing transitions of the Markov chain. Use the `transition` function with the normalized transition probability matrix and the page probability vector computed from the first transition as arguments. Your code must do the following:  \n",
    "> 1. Compute the resulting page probabilities of the second transition.\n",
    "> 2. Compute and print the Euclidean (L2) norm of the difference between the page probabilities before and after the transition. \n",
    "> 3. Compute and print the sum of the page probabilities. \n",
    "> 4. Display the page probabilities. "
   ]
  },
  {
   "cell_type": "code",
   "execution_count": 5,
   "id": "ed8d76cb",
   "metadata": {},
   "outputs": [
    {
     "name": "stdout",
     "output_type": "stream",
     "text": [
      "0.09262962222518371\n",
      "1.0\n"
     ]
    },
    {
     "data": {
      "text/plain": [
       "array([0.23888889, 0.05555556, 0.05555556, 0.37777778, 0.27222222])"
      ]
     },
     "execution_count": 5,
     "metadata": {},
     "output_type": "execute_result"
    }
   ],
   "source": [
    "# Compute probabilities after second state transition\n",
    "## Put your code below\n",
    "p2 = transition(M, p1)\n",
    "print(np.linalg.norm(np.subtract(p2,p1)))\n",
    "print(np.sum(p2))\n",
    "p2"
   ]
  },
  {
   "cell_type": "markdown",
   "id": "b94bda45",
   "metadata": {},
   "source": [
    "> Note the difference between the Euclidean norms of the differences for the first and second transition calculations. Does the change in this difference from one step to the next indicate the algorithm is converging to the steady state probabilities?  \n",
    "> **End of exercise.**"
   ]
  },
  {
   "cell_type": "markdown",
   "id": "6cfc9527",
   "metadata": {},
   "source": [
    "> **Exercise 03-4:** The question now is how does this simplified version of page rank converge with more iterations? To find out, do the following:   \n",
    "> 1. Create a function `pagerank1` with arguments, the normalized transition matrix, the initial page probabilities and a convergence threshold value of 0.01, which does the following:  \n",
    ">    - Initialize a euclidean distance norm to 1.0 and the resulting page probabilities to a vector of 0.0 values of length equal to the dimension of the transition matrix.   \n",
    ">    - Set a loop counter to 1.  \n",
    ">    - Use a 'while' loop with termination conditions the euclidean distance norm less than the threshold value AND the loop counter less than 50.  In side this loop do the following:  \n",
    ">      1. Update the page probabilities using the `transition` function you created. \n",
    ">      2. Compute the Euclidean norm of the difference between the initial and updated page probabilities from the transition.   \n",
    ">      3. Print the value of the loop counter and the Euclidean norm value. \n",
    ">      4. Copy the updated page probability vector into the input page probability vector.  \n",
    ">      5. Increment the loop counter by 1. \n",
    ">    - Return the page probabilities at convergence.  \n",
    "> 2. Execute your `pagerank1` function using the transition matrix and initial page probability vector. "
   ]
  },
  {
   "cell_type": "code",
   "execution_count": 6,
   "id": "b64228ab",
   "metadata": {},
   "outputs": [
    {
     "name": "stdout",
     "output_type": "stream",
     "text": [
      "Iteration 1 Euclidean distance = 0.30912061651652345\n",
      "Iteration 2 Euclidean distance = 0.09262962222518371\n",
      "Iteration 3 Euclidean distance = 0.0627447198003608\n",
      "Iteration 4 Euclidean distance = 0.04713034716117629\n",
      "Iteration 5 Euclidean distance = 0.04044983066499079\n",
      "Iteration 6 Euclidean distance = 0.034751469502374295\n",
      "Iteration 7 Euclidean distance = 0.02965169022900917\n",
      "Iteration 8 Euclidean distance = 0.025297173726972686\n",
      "Iteration 9 Euclidean distance = 0.021602992445622173\n",
      "Iteration 10 Euclidean distance = 0.018452365792341184\n",
      "Iteration 11 Euclidean distance = 0.01575978617875431\n",
      "Iteration 12 Euclidean distance = 0.013459509556315313\n",
      "Iteration 13 Euclidean distance = 0.011495031885715244\n",
      "Iteration 14 Euclidean distance = 0.00981734526591825\n"
     ]
    },
    {
     "data": {
      "text/plain": [
       "array([0.21890828, 0.07149265, 0.07149265, 0.38258726, 0.25551917])"
      ]
     },
     "execution_count": 6,
     "metadata": {},
     "output_type": "execute_result"
    }
   ],
   "source": [
    "# Compute probabilities after a larger number of state transitions \n",
    "def pagerank1(M, in_probs,  threshold = 0.01):  \n",
    "    euclidean_dist = 1.0 \n",
    "    page_probabilities = np.array([0.0]*len(M))\n",
    "    i = 1   \n",
    "    ## Put your code below\n",
    "    while euclidean_dist > threshold and i < 50:    \n",
    "        page_probabilities = transition(M, in_probs)\n",
    "        euclidean_dist = np.linalg.norm(np.subtract(in_probs, page_probabilities)) \n",
    "        in_probs =  page_probabilities\n",
    "        print('Iteration ' + str(i) + ' Euclidean distance = ' + str(euclidean_dist))\n",
    "        i += 1\n",
    "    return page_probabilities    \n",
    "\n",
    "## Execute your function\n",
    "## Put your code below\n",
    "pagerank1(M,p)"
   ]
  },
  {
   "cell_type": "markdown",
   "id": "0caeedfd",
   "metadata": {},
   "source": [
    "> Answer the following questions:  \n",
    "> - Does the convergence of this algorithm seem fairly rapid? \n",
    "> - Does the rank order of the computed page probabilities make sense given the directed graph of the pages? \n",
    "> **End of exercise.**"
   ]
  },
  {
   "cell_type": "markdown",
   "id": "a1959889",
   "metadata": {},
   "source": [
    "## A More Complicated Example   \n",
    "\n",
    "You will now work with a more complicated example The graph of 6 web pages, shown in Figure 2, is no longer complete. The out degree of page 6 is 0. A random surfer transitioning to page 6 will have no escape, a **spider trap**! \n",
    "\n",
    "<img src=\"../images/web2.png\" alt=\"Drawing\" style=\"width:500px; height:500px\"/>\n",
    "<center>Figure 3: A small set of web pages with a dead end</center>"
   ]
  },
  {
   "cell_type": "markdown",
   "id": "d4a4270c",
   "metadata": {},
   "source": [
    "> **Exercise 03-5:** You will now create both the normalized transition matrix and the initial page probability vector for the graph of Figure 3. In this exercise you will . Do the following:  \n",
    "> 1. Create the association matrix and normalize it using your `norm_association` function. Name your transition matrix M_deadend. Print the result. \n",
    "> 2. Create a vector of containing the the in degree of the graph. Normalize the vector so the initial probabilities sum to 1.0. Save and print the result.   "
   ]
  },
  {
   "cell_type": "code",
   "execution_count": 7,
   "id": "82db4316",
   "metadata": {},
   "outputs": [
    {
     "name": "stdout",
     "output_type": "stream",
     "text": [
      "[[0.         0.33333333 0.         0.5        0.         0.        ]\n",
      " [0.25       0.         0.         0.         0.         0.        ]\n",
      " [0.25       0.         0.         0.         0.         0.        ]\n",
      " [0.25       0.33333333 0.33333333 0.         1.         0.        ]\n",
      " [0.         0.33333333 0.33333333 0.5        0.         0.        ]\n",
      " [0.25       0.         0.33333333 0.         0.         0.        ]]\n",
      "[0.15384615 0.07692308 0.07692308 0.30769231 0.23076923 0.15384615]\n"
     ]
    }
   ],
   "source": [
    "## Create the Association Matrix\n",
    "## Put your code below\n",
    "A_deadend = np.array([[0,1,0,1,0,0],\n",
    "                      [1,0,0,0,0,0],\n",
    "                      [1,0,0,0,0,0],\n",
    "                      [1,1,1,0,1,0],\n",
    "                      [0,1,1,1,0,0],\n",
    "                     [1,0,1,0,0,0]])\n",
    "\n",
    "## Normalize the association matrix\n",
    "## Put your code below\n",
    "M_deadend = norm_association(A_deadend)\n",
    "print(M_deadend)\n",
    "\n",
    "## Create the equal probability starting values\n",
    "## Put your code below\n",
    "p_deadend = np.sum(A_deadend, axis=1)\n",
    "p_deadend = np.divide(p_deadend, np.sum(p_deadend))\n",
    "print(p_deadend)"
   ]
  },
  {
   "cell_type": "markdown",
   "id": "210965cd",
   "metadata": {},
   "source": [
    "> Examine your results. Are the 0 values for the transition probabilities of page 6 and the associated non-zero in the page probabilities consistent with the graph of these pages?    \n",
    "> **End of exercise.**   "
   ]
  },
  {
   "cell_type": "markdown",
   "id": "3fab8ae8",
   "metadata": {},
   "source": [
    "> **Exercises 03-6:** What happens if you apply the simplified PageRank algorithm to the pages on a graph that is not complete, like the one shown in Figure 2? To find out, execute your `pagerank1` function with arguments `M_deadend`, `p_deadend` and `threshold=0.001`. The smaller threshold value is to ensure convergence. "
   ]
  },
  {
   "cell_type": "code",
   "execution_count": 8,
   "id": "dc2a2658",
   "metadata": {},
   "outputs": [
    {
     "name": "stdout",
     "output_type": "stream",
     "text": [
      "Iteration 1 Euclidean distance = 0.11176663957796601\n",
      "Iteration 2 Euclidean distance = 0.05047440944879368\n",
      "Iteration 3 Euclidean distance = 0.03196212671293077\n",
      "Iteration 4 Euclidean distance = 0.02896215595961246\n",
      "Iteration 5 Euclidean distance = 0.02609541048864403\n",
      "Iteration 6 Euclidean distance = 0.024648655232248615\n",
      "Iteration 7 Euclidean distance = 0.021962192704449258\n",
      "Iteration 8 Euclidean distance = 0.020672129115029844\n",
      "Iteration 9 Euclidean distance = 0.01857250748188292\n",
      "Iteration 10 Euclidean distance = 0.01740991694999164\n",
      "Iteration 11 Euclidean distance = 0.015726745028649337\n",
      "Iteration 12 Euclidean distance = 0.014693350586384997\n",
      "Iteration 13 Euclidean distance = 0.013329322358288835\n",
      "Iteration 14 Euclidean distance = 0.01241850218375155\n",
      "Iteration 15 Euclidean distance = 0.011302786548359096\n",
      "Iteration 16 Euclidean distance = 0.010506080760252699\n",
      "Iteration 17 Euclidean distance = 0.0095866222704363\n",
      "Iteration 18 Euclidean distance = 0.008894086069700165\n",
      "Iteration 19 Euclidean distance = 0.008131821623074763\n",
      "Iteration 20 Euclidean distance = 0.007532889360837013\n",
      "Iteration 21 Euclidean distance = 0.006897936542135277\n",
      "Iteration 22 Euclidean distance = 0.006382068086832507\n",
      "Iteration 23 Euclidean distance = 0.00585117073929888\n",
      "Iteration 24 Euclidean distance = 0.005408291804685317\n",
      "Iteration 25 Euclidean distance = 0.0049630760097738\n",
      "Iteration 26 Euclidean distance = 0.0045838426342154305\n",
      "Iteration 27 Euclidean distance = 0.004209603153160863\n",
      "Iteration 28 Euclidean distance = 0.0038855346900220156\n",
      "Iteration 29 Euclidean distance = 0.0035703736741941167\n",
      "Iteration 30 Euclidean distance = 0.003293894987984416\n",
      "Iteration 31 Euclidean distance = 0.0030280984919274752\n",
      "Iteration 32 Euclidean distance = 0.0027925236148161284\n",
      "Iteration 33 Euclidean distance = 0.0025681014459444347\n",
      "Iteration 34 Euclidean distance = 0.0023675823069946155\n",
      "Iteration 35 Euclidean distance = 0.0021779220952863752\n",
      "Iteration 36 Euclidean distance = 0.002007378698010694\n",
      "Iteration 37 Euclidean distance = 0.0018469813098276342\n",
      "Iteration 38 Euclidean distance = 0.0017020242143684337\n",
      "Iteration 39 Euclidean distance = 0.001566298165075935\n",
      "Iteration 40 Euclidean distance = 0.0014431501493835724\n",
      "Iteration 41 Euclidean distance = 0.0013282495839958316\n",
      "Iteration 42 Euclidean distance = 0.0012236705958436616\n",
      "Iteration 43 Euclidean distance = 0.001126366006553914\n",
      "Iteration 44 Euclidean distance = 0.001037583662304846\n",
      "Iteration 45 Euclidean distance = 0.00095515761263852\n"
     ]
    },
    {
     "data": {
      "text/plain": [
       "array([0.00485108, 0.00131723, 0.00131723, 0.00805744, 0.0053278 ,\n",
       "       0.00179396])"
      ]
     },
     "execution_count": 8,
     "metadata": {},
     "output_type": "execute_result"
    }
   ],
   "source": [
    "## Put your code below\n",
    "pagerank1(M_deadend,p_deadend, threshold = 0.001)"
   ]
  },
  {
   "cell_type": "markdown",
   "id": "e59ad36a",
   "metadata": {},
   "source": [
    "> Answer the following questions:  \n",
    "> - Given the lower convergence threshold (factor of 10) does the convergence of the algorithm generally seem fast? \n",
    "> - Examine the page probabilities, noticing that the sum is far less than 1.0. Does this indicate that the algorithm is converging to a point where all page probabilities are 0.0?  \n",
    "> **End of exercise.**"
   ]
  },
  {
   "cell_type": "markdown",
   "id": "b2a48973",
   "metadata": {},
   "source": [
    "It is clear from the results of the foregoing exercise that the simple PageRank algorithm does not converge to a usable set of page probabilities when faced with graph that is not complete.Fortunately, there is a simple fix, add a damping term. You can think of the damping term as allowing a random surfer to make an arbitrary transition or jump with some small probability. These random jumps help the random surfer to better explore the graph and to escape from spider traps. The jump probabilities from states, $p_i$, are a function of the damping factor $d$: \n",
    "\n",
    "$$Jump\\ Probability = \\frac{(1-d)}{n}$$\n",
    "\n",
    "Where $n$ is the dimension of the transition probability matrix. \n",
    "\n",
    "The updated page probabilities, $p_i$, are then computed with the damped PageRank algorithm as:   \n",
    "\n",
    "$$p_{i} = d * M p_{i-1} + \\frac{(1-d)}{n}$$\n",
    "\n",
    "Where $M$ is the transition probability matrix and p are the initial page probability values. \n",
    "\n",
    "> **Exercise 03-7:** To implement the PageRank algorithm with a damping factor do the following:  \n",
    "> 1. Create a `transition_damped` function with arguments, the transition probability matrix, the initial page probabilities, and the damping factor, $d=0.85$, which does the following:  \n",
    ">   - Compute the updated page probabilities by multiplying the inner (dot) product of the transition probability matrix by the initial page probabilities by the damping factor, `d`. Use the [numpy.multiply](https://numpy.org/doc/stable/reference/generated/numpy.multiply.html) and numpy.dot functions.\n",
    ">   - Compute the jump probabilities vector of length the dimension of the transition matrix and multiply these by element wise by the page probabilities using `np.multiply`. *Note:* the jump probabilities are constant, so you can create code that only computes them once if you so choose.  \n",
    ">   - Return the sum of the damped page probabilities and the jump probabilities.  \n",
    "> 2. Create a `pagerank_damped` function. This function is identical to the `pagerank1` function you already created except that it uses the `transiton_damped` function in place of the `transition` function.  \n",
    "> 3. Call your `pagerank_damped` function using arguments of `M_deadend` and `p_deadend`. "
   ]
  },
  {
   "cell_type": "code",
   "execution_count": 11,
   "id": "ca90f6a8",
   "metadata": {},
   "outputs": [
    {
     "name": "stdout",
     "output_type": "stream",
     "text": [
      "Iteration 1 Euclidean distance = 0.08901259061855184\n",
      "Iteration 2 Euclidean distance = 0.037944951600823416\n",
      "Iteration 3 Euclidean distance = 0.02079410296917142\n",
      "Iteration 4 Euclidean distance = 0.016465473690449515\n",
      "Iteration 5 Euclidean distance = 0.012780435459627378\n",
      "Iteration 6 Euclidean distance = 0.010158493874458772\n",
      "Iteration 7 Euclidean distance = 0.007796135866124159\n",
      "0.6847979085593676\n"
     ]
    },
    {
     "data": {
      "text/plain": [
       "array([0.13562668, 0.05462989, 0.05462989, 0.21823996, 0.15133414,\n",
       "       0.07033734])"
      ]
     },
     "execution_count": 11,
     "metadata": {},
     "output_type": "execute_result"
    }
   ],
   "source": [
    "## Add a damping facgtor to the transiton \n",
    "def transition_damped(transition_probs, probs, d=0.85):\n",
    "    '''Function to compute the probabilities resulting from a \n",
    "    single transition of a Markov process including a damping\n",
    "    factor to deal with dead ends'''\n",
    "    ## Put your code below\n",
    "    out = np.multiply(np.dot(transition_probs, probs), d)\n",
    "    damping = np.array([(1-d)/len(probs)]*len(probs))\n",
    "    out = np.add(out,damping)\n",
    "    return out\n",
    "\n",
    "## function for the PageRank algorithm using the damped transition algorithm \n",
    "## Put your code below\n",
    "def pagerank_damped(M, in_probs,  threshold = 0.01):  \n",
    "    euclidean_dist = 1.0 \n",
    "    page_probabilities = np.array([0.0]*len(M))\n",
    "    i = 1\n",
    "    while euclidean_dist > threshold and i < 50:    \n",
    "        page_probabilities = transition_damped(M, in_probs)\n",
    "        euclidean_dist = np.linalg.norm(np.subtract(in_probs, page_probabilities)) \n",
    "        in_probs =  page_probabilities\n",
    "        print('Iteration ' + str(i) + ' Euclidean distance = ' + str(euclidean_dist))\n",
    "        i += 1\n",
    "    return page_probabilities    \n",
    "\n",
    "## Execute your funciton\n",
    "## Put your code below\n",
    "damped_rank = pagerank_damped(M_deadend,p_deadend)\n",
    "print(sum(damped_rank))\n",
    "damped_rank"
   ]
  },
  {
   "cell_type": "markdown",
   "id": "b4abd795",
   "metadata": {},
   "source": [
    "> Answer the following questions:   \n",
    "> - Notice the convergence of the damped page rank algorithm. Compare this convergence to that of the undamped PageRank algorithm on the complete graph of 5 pages. Do you think this change is a result of the jumps the random surfer makes?   \n",
    "> - Examine the final page probabilities. Does the rank of these page probabilities make sense given the graph of the pages in this case? \n",
    "> **End of exercise.**"
   ]
  },
  {
   "cell_type": "markdown",
   "id": "a070f23d",
   "metadata": {},
   "source": [
    "## Hubs, Authorities, and the HITS Algorithm  \n",
    "\n",
    "The hubs and authorities model is an alternative to PageRank. Rather than using a single metric to rank the importance of web pages, the **HITS** algorithm iteratively updates the hub and authority scores for each of the pages. \n",
    "\n",
    "The HITS algorithm updates the authority and hub scores iteratively. The authority score is sum of the hubs linked to it: \n",
    "$$𝑎= \\beta 𝐴 ℎ$$\n",
    "\n",
    "Hub score is sum of the authorities it links to: \n",
    "$$ℎ= \\alpha 𝐴^𝑇 a$$\n",
    "\n",
    "The algorithm iterates between updates to $𝑎$ and $ℎ$ until convergence. To ensure convergence, must normalize $𝑎$ and $ℎ$ to have unit Euclidean norm at each iteration. Therefore, the choice of $\\alpha$ and $\\beta$ are therefore unimportant      "
   ]
  },
  {
   "cell_type": "markdown",
   "id": "57d9ff8d",
   "metadata": {},
   "source": [
    "> ** Exercise 03-8:** To understand the HITS algorithm you will now create and test code for this algorithm. Follow these steps:  \n",
    "> 1. Create a function called `HITS` with arguments of the association matrix, initial hub vector, initial authority vector, and the number of iterations of the algorithm to run. This function does the following:   \n",
    ">  - Inside a for loop over the number of iterations:  \n",
    ">    1. Updates the authority vector using the association matrix and the hub vector as argument to the `transition` function. \n",
    ">    2. Normalizes the authority vector by using `numpy.divide` with arguments of the updated authority vector and its L2 norm, computed with [numpy.linalg.norm](https://numpy.org/doc/stable/reference/generated/numpy.linalg.norm.html).  \n",
    ">    3. Updates the hub vector using the association matrix and the authority vector as argument to the `transition` function. \n",
    ">    4. Normalizes the hub vector by using `numpy.divide` with arguments of the updated hub vector and its L2 norm, computed with `numpy.linalg.norm`.  \n",
    ">   - Return the hub and authority vectors\n",
    "> 2. Initialize an initial hub and authority vector of length the dimension of the association matrix with uniformly distributed values of $\\frac{1.0}{dimension(association\\ matrix)}$.  \n",
    "> 3. Execute your function using the association matrix for the 6-page network and the initial hub and authority vectors as arguments. "
   ]
  },
  {
   "cell_type": "code",
   "execution_count": 10,
   "id": "b5426080",
   "metadata": {},
   "outputs": [
    {
     "data": {
      "text/plain": [
       "(array([0.51721531, 0.5267355 , 0.56154289, 0.28553154, 0.24120396,\n",
       "        0.        ]),\n",
       " array([0.29355748, 0.18692427, 0.18692427, 0.66740602, 0.49650196,\n",
       "        0.38986875]))"
      ]
     },
     "execution_count": 10,
     "metadata": {},
     "output_type": "execute_result"
    }
   ],
   "source": [
    "def HITS(association, hub, authority, iters=100):\n",
    "    ## Put your code below\n",
    "    for _ in range(iters):\n",
    "        ## Update and normalize the authorithm vector\n",
    "        authority = transition(association, hub)\n",
    "        authority = np.divide(authority, np.linalg.norm(authority))\n",
    "        ## Update and normalize the hubieness \n",
    "        hub = transition(np.transpose(association), authority)\n",
    "        hub = np.divide(hub, np.linalg.norm(hub))\n",
    "    return hub, authority \n",
    "\n",
    "## Compute the intial hub and authority vectors\n",
    "## Put your code below\n",
    "n_row = A_deadend.shape[0]\n",
    "auth_start = np.array([1.0/n_row]*n_row)\n",
    "hub_start = np.array([1.0/n_row]*n_row)\n",
    "\n",
    "## Execute your funciton\n",
    "## Put your code below\n",
    "HITS(A_deadend, hub_start, auth_start)"
   ]
  },
  {
   "cell_type": "markdown",
   "id": "95066c88",
   "metadata": {},
   "source": [
    "> Examine your results and answer the following questions:\n",
    "> - Which of the pages have the highest hub scores? Considering the graph of the pages, is this ordering consistent?  \n",
    "> - Notice the last value of the hub scores. Is this value expected given the graph of the pages? \n",
    "> - Which of the pages have the highest authority. Given the in degree of the pages is this ranking consistent?  \n",
    "> - Compare the ranking of the pages based on authority that found with PageRank. Are these results consistent? \n",
    "> **End of exercise.** "
   ]
  },
  {
   "cell_type": "markdown",
   "id": "f99ee12d",
   "metadata": {},
   "source": [
    "#### Copyright 2021, Stephen F Elston. All rights reserved."
   ]
  }
 ],
 "metadata": {
  "kernelspec": {
   "display_name": "Python 3",
   "language": "python",
   "name": "python3"
  },
  "language_info": {
   "codemirror_mode": {
    "name": "ipython",
    "version": 3
   },
   "file_extension": ".py",
   "mimetype": "text/x-python",
   "name": "python",
   "nbconvert_exporter": "python",
   "pygments_lexer": "ipython3",
   "version": "3.7.3"
  }
 },
 "nbformat": 4,
 "nbformat_minor": 5
}
