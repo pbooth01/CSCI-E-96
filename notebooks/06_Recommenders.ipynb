{
 "cells": [
  {
   "cell_type": "markdown",
   "id": "c61735ea",
   "metadata": {},
   "source": [
    "# Assignment 06\n",
    "\n",
    "## Recommender Systems \n",
    "\n",
    "## CSCI S-96\n",
    "\n",
    "> Instructions: For this assignment you will complete the exercises shown. All exercises involve creating and executing some Python code. Additionally, most exercises have questions for you to answer. You can answer questions by creating a Markdown cell and writing your answer. If you are not familiar with Markdown, you can find a brief tutorial here."
   ]
  },
  {
   "cell_type": "markdown",
   "id": "775d22f6",
   "metadata": {},
   "source": [
    "## Introduction \n",
    "\n",
    "Recommender algorithms are widely used in commerce. Further, the basic algorithms have found applications in other areas. In this Assignment you gain some experience working with the nature of recommender data, the collaborative filtering algorithm and the versions of the nonnegative matrix factorization algorithm.           \n",
    "\n",
    "This Assignment uses the Python [Surprise](http://surpriselib.com/) package a scikit for recommender system experimentation. You can find further installation instructions on this linked page. If you have not previously installed Surprise uncomment the code in the cell below and execute it.  "
   ]
  },
  {
   "cell_type": "code",
   "execution_count": 1,
   "id": "72c209b4",
   "metadata": {},
   "outputs": [],
   "source": [
    "## Install the surprise package if it is not already insalled  \n",
    "## Uncommend the line of code below and exectue this cell\n",
    "#!pip3 install scikit-surprise"
   ]
  },
  {
   "cell_type": "markdown",
   "id": "a1794d61",
   "metadata": {},
   "source": [
    "Execute the code in the cell below to import the packages you will need for this assignment. "
   ]
  },
  {
   "cell_type": "code",
   "execution_count": 2,
   "id": "56c703c5",
   "metadata": {},
   "outputs": [],
   "source": [
    "from surprise.prediction_algorithms.matrix_factorization import SVD, NMF\n",
    "from surprise.prediction_algorithms.baseline_only import BaselineOnly\n",
    "from surprise.prediction_algorithms.knns import KNNBasic\n",
    "from surprise import Dataset\n",
    "from surprise import accuracy\n",
    "from surprise.model_selection import cross_validate\n",
    "from surprise.model_selection import train_test_split\n",
    "import numpy as np\n",
    "import matplotlib.pyplot as plt\n",
    "import seaborn as sns\n",
    "\n",
    "%matplotlib inline"
   ]
  },
  {
   "cell_type": "markdown",
   "id": "187e0e31",
   "metadata": {},
   "source": [
    "## Load and Explore the Dataset   \n",
    "\n",
    "In this Assignment you will work with the MovieLens 100k dataset. This dataset includes a total of 100,000 movie ratings from IMDB. \n",
    "\n",
    "Before working with recommender algorithms, will explore these data. Exploration of data is an essential step in any data mining process.     \n",
    "\n",
    "The code in the cell below loads the dataset and splits it into training and testing datasets. Execute this code. If you are asked to if you want to download the data you must answer y. "
   ]
  },
  {
   "cell_type": "code",
   "execution_count": 3,
   "id": "b13593f0",
   "metadata": {},
   "outputs": [],
   "source": [
    "## Load the movielens-100k dataset \n",
    "## Answer y if you are asked to download the dataset\n",
    "movie_lense_data = Dataset.load_builtin('ml-100k')\n",
    "\n",
    "## Split the dataset into training and test subsets.\n",
    "np.random.seed(4517)\n",
    "ml_trainset, ml_testset = train_test_split(movie_lense_data, test_size=0.20)"
   ]
  },
  {
   "cell_type": "markdown",
   "id": "56d69e4e",
   "metadata": {},
   "source": [
    "Before experimenting with the recommender algorithms we will explore the data. As a first step of the execute the code in the cell below to print some characteristics of the training dataset.  "
   ]
  },
  {
   "cell_type": "code",
   "execution_count": 4,
   "id": "78a87679",
   "metadata": {},
   "outputs": [
    {
     "name": "stdout",
     "output_type": "stream",
     "text": [
      "Number of users = 943\n",
      "Number of items = 1654\n",
      "Number of ratings = 80000\n"
     ]
    }
   ],
   "source": [
    "print(\"Number of users = {}\".format(ml_trainset.n_users))\n",
    "print(\"Number of items = {}\".format(ml_trainset.n_items))\n",
    "print(\"Number of ratings = {}\".format(ml_trainset.n_ratings))"
   ]
  },
  {
   "cell_type": "markdown",
   "id": "b1dd669a",
   "metadata": {},
   "source": [
    "You can see some basic characteristics of the training dataset. If these data were represented as a rectangular table or matrix they would require, over 1.5 million, and at least that many bytes. In practice, a more efficient representation is used. \n",
    "\n",
    "The Surprise package, like all effective recommender software, uses a space efficient representation. The `nr` attribute of the Surprise data object contains a dictionary with the recommender data. The keys of the dictionary are numeric identifiers of the users. The values of this key-value pairs are a list of tuples. The tuples are key value pairs, with the key being the item identifier and the value the rating. In summary, there is a key to value of a key value pair.      \n",
    "\n",
    "The code in the cell below prints the list of key value, item identifier, rating, value pairs for user identifier 5. Execute this code and examine the results.   "
   ]
  },
  {
   "cell_type": "code",
   "execution_count": 5,
   "id": "42fa930b",
   "metadata": {
    "scrolled": false
   },
   "outputs": [
    {
     "name": "stdout",
     "output_type": "stream",
     "text": [
      "32\n"
     ]
    },
    {
     "data": {
      "text/plain": [
       "[(5, 4.0),\n",
       " (339, 4.0),\n",
       " (919, 5.0),\n",
       " (169, 4.0),\n",
       " (574, 2.0),\n",
       " (49, 2.0),\n",
       " (563, 2.0),\n",
       " (144, 5.0),\n",
       " (859, 3.0),\n",
       " (650, 1.0),\n",
       " (4, 4.0),\n",
       " (507, 3.0),\n",
       " (75, 2.0),\n",
       " (289, 2.0),\n",
       " (593, 4.0),\n",
       " (348, 2.0),\n",
       " (160, 4.0),\n",
       " (47, 5.0),\n",
       " (34, 3.0),\n",
       " (904, 2.0),\n",
       " (216, 3.0),\n",
       " (407, 3.0),\n",
       " (322, 2.0),\n",
       " (477, 1.0),\n",
       " (349, 3.0),\n",
       " (557, 4.0),\n",
       " (321, 3.0),\n",
       " (372, 3.0),\n",
       " (955, 2.0),\n",
       " (276, 5.0),\n",
       " (1069, 4.0),\n",
       " (616, 4.0)]"
      ]
     },
     "execution_count": 5,
     "metadata": {},
     "output_type": "execute_result"
    }
   ],
   "source": [
    "## Print the product-rating tupples in the 'ur' attribute of the data object from user 6\n",
    "print(len(ml_trainset.ur[5]))\n",
    "ml_trainset.ur[5]"
   ]
  },
  {
   "cell_type": "markdown",
   "id": "d79af1c7",
   "metadata": {},
   "source": [
    "User 5 has only rated 32 items of 1647 total items.     "
   ]
  },
  {
   "cell_type": "markdown",
   "id": "79f28953",
   "metadata": {},
   "source": [
    "> **Exercise 06-1:** To gain some understanding of the nature of the ratings data do the following:    \n",
    "> 1. In the cell below create and execute code to compute and print the decimal fraction of items rated by user 5 and the decimal fraction of the average number of items rated by all users. Use the attributes of the training dataset to extract the required parameters.  "
   ]
  },
  {
   "cell_type": "code",
   "execution_count": 6,
   "id": "utility-model",
   "metadata": {},
   "outputs": [],
   "source": [
    "TOTAL_USERS = ml_trainset.n_users\n",
    "TOTAL_ITEMS = ml_trainset.n_items\n",
    "TOTAL_RATINGS = ml_trainset.n_ratings"
   ]
  },
  {
   "cell_type": "code",
   "execution_count": 7,
   "id": "e6870b0d",
   "metadata": {},
   "outputs": [
    {
     "name": "stdout",
     "output_type": "stream",
     "text": [
      "User Identifier 5 rated 0.019347037484885126 percent of items\n",
      "On average, users rated 0.05129119163543247 percent of items\n"
     ]
    }
   ],
   "source": [
    "print(\"User Identifier 5 rated {0} percent of items\".format(len(ml_trainset.ur[5]) / TOTAL_ITEMS))\n",
    "\n",
    "total_items_rated = 0\n",
    "for user_identifier in ml_trainset.ur:\n",
    "    total_items_rated += len(ml_trainset.ur[user_identifier])\n",
    "\n",
    "average_items_rated_per_user = total_items_rated / TOTAL_USERS\n",
    "\n",
    "print(\"On average, users rated {0} percent of items\".format(average_items_rated_per_user / TOTAL_ITEMS))\n"
   ]
  },
  {
   "cell_type": "markdown",
   "id": "2e7ae678",
   "metadata": {},
   "source": [
    "> 2. Given that real-world online catalogs (products, videos, music, etc.) can contain millions of items, do you think these fractions for an individual user and the average user are realistic or too high? \n",
    "> 3. Create two lists with the following values, a) list named `mean_ratings` containing the mean rating of each user, and b) a list named `number_ratings` that contains the count of ratings for each user. The user ratings are represented with a Python dictionary, with key the user identifier in the `ur` attribute of the training dataset. You can extract the keys (user identifiers) with the `keys` method.  \n",
    "> 4. Once you have completed your code, execute the code in the cell below to display the histograms.  "
   ]
  },
  {
   "cell_type": "markdown",
   "id": "emotional-malawi",
   "metadata": {},
   "source": [
    "2. I think they are significantly higher than normal."
   ]
  },
  {
   "cell_type": "code",
   "execution_count": 8,
   "id": "4639c3f9",
   "metadata": {},
   "outputs": [
    {
     "data": {
      "image/png": "[encoded data removed]",
      "text/plain": [
       "<Figure size 1080x288 with 2 Axes>"
      ]
     },
     "metadata": {
      "needs_background": "light"
     },
     "output_type": "display_data"
    }
   ],
   "source": [
    "## Compute the mean rating for each of the users in the training dataset\n",
    "mean_ratings = []\n",
    "number_ratings = []\n",
    "## Put your code here\n",
    "for user_identifier in ml_trainset.ur:\n",
    "    total_ratings_for_user = len(ml_trainset.ur[user_identifier])\n",
    "    number_ratings.append(total_ratings_for_user)\n",
    "    \n",
    "    total_ratings_score = 0\n",
    "    for rating_tup in ml_trainset.ur[user_identifier]:\n",
    "        total_ratings_score += rating_tup[1]\n",
    "    \n",
    "    avg_rating_score_for_user = total_ratings_score / total_ratings_for_user\n",
    "    mean_ratings.append(avg_rating_score_for_user)\n",
    "\n",
    "    \n",
    "## Create a histograms of the results\n",
    "fig,ax= plt.subplots(1,2,figsize=(15,4))\n",
    "_=ax[0].hist(mean_ratings, bins=20, alpha=0.5) \n",
    "_=ax[0].set_xlabel('Mean user rating')\n",
    "_=ax[0].set_ylabel('Frequency')\n",
    "_=ax[0].set_title('Distribution of mean user ratings')\n",
    "_=ax[1].hist(number_ratings, bins=20, alpha=0.5) \n",
    "_=ax[1].set_xlabel('Number of items rated')\n",
    "_=ax[1].set_ylabel('Frequency')\n",
    "_=ax[1].set_title('Distribution of number of items rated by user')"
   ]
  },
  {
   "cell_type": "markdown",
   "id": "1b23fd56",
   "metadata": {},
   "source": [
    "> 5. Is the distribution of the mean user ratings a bit skewed? Do you think this skew is reasonable?   \n",
    "> 6. Notice the rapid decay in the frequency of items rated by users. Why is this result considered reasonable?  \n",
    "> **End of exercise.**"
   ]
  },
  {
   "cell_type": "markdown",
   "id": "potential-surrey",
   "metadata": {},
   "source": [
    "5. The distribution is slightly skewed to the left. This seems reasonable considering the distribution is centered between 3.5 and 4.\n",
    "\n",
    "6. This result seems reasonable because people are lazy and don't tend to rate things."
   ]
  },
  {
   "cell_type": "markdown",
   "id": "4cceab1c",
   "metadata": {},
   "source": [
    "## Baseline Only Model\n",
    "\n",
    "One possible answer to the cold start problem is to use a **baseline only** model. In this model we just use the average or baseline values for users or items to predict ratings. This same approach can be applied to users who consume an item, but provide no rating."
   ]
  },
  {
   "cell_type": "markdown",
   "id": "0a3cc000",
   "metadata": {},
   "source": [
    "> **Exercise 06-2:** You will now create and evaluate a baseline recommender model. Do the following:   \n",
    "> 1. Instantiate a [surprise.prediction_algorithms.baseline_only.BaselineOnly](https://surprise.readthedocs.io/en/stable/basic_algorithms.html) model object and it with the `fit` method using the `ml_trainset` as the argument. Name your model object `baseline_model`.  \n",
    "> 2. Compute the recommender predictions with the `test` method using the `ml_testset` as the argument.   \n",
    "> 3. Compute and print the RMSE using [surprise.accuracy.rmse](https://surprise.readthedocs.io/en/stable/accuracy.html) and MAE using [surprise.accuracy.mae](https://surprise.readthedocs.io/en/stable/accuracy.html) with the predictions as the argument in both cases.  "
   ]
  },
  {
   "cell_type": "code",
   "execution_count": 9,
   "id": "d92d5c6c",
   "metadata": {},
   "outputs": [
    {
     "name": "stdout",
     "output_type": "stream",
     "text": [
      "Estimating biases using als...\n",
      "RMSE: 0.9371\n",
      "MAE:  0.7421\n"
     ]
    }
   ],
   "source": [
    "## Instantiate the model object and fit to the training data  \n",
    "baseline_model = BaselineOnly()\n",
    "baseline_model.fit(ml_trainset)\n",
    "\n",
    "## Compute the predicitons from the model \n",
    "baseline_predictions = baseline_model.test(ml_testset)\n",
    "\n",
    "\n",
    "# Compute some model performance statistics\n",
    "baseline_RMSE = accuracy.rmse(baseline_predictions)\n",
    "baseline_MAE = accuracy.mae(baseline_predictions)\n",
    "\n"
   ]
  },
  {
   "cell_type": "markdown",
   "id": "3a9ad54e",
   "metadata": {},
   "source": [
    "> 4. Does the performance of this model seem good given its simplicity?   \n",
    "> 5. Execute the code in the cell below to display histograms of the item and user biases. "
   ]
  },
  {
   "cell_type": "markdown",
   "id": "blank-benefit",
   "metadata": {},
   "source": [
    "4. I think the models performace seems good given its simplicity."
   ]
  },
  {
   "cell_type": "code",
   "execution_count": 10,
   "id": "e4d87746",
   "metadata": {},
   "outputs": [
    {
     "data": {
      "image/png": "[encoded data removed]",
      "text/plain": [
       "<Figure size 1080x288 with 2 Axes>"
      ]
     },
     "metadata": {
      "needs_background": "light"
     },
     "output_type": "display_data"
    }
   ],
   "source": [
    "## plot the biases\n",
    "fig,ax= plt.subplots(1,2,figsize=(15,4))\n",
    "_=ax[0].hist(baseline_model.bi, bins=20, alpha=0.5) \n",
    "_=ax[0].set_xlabel('Item bias')\n",
    "_=ax[0].set_ylabel('Frequency')\n",
    "_=ax[0].set_title('Distribution of item bias')\n",
    "_=ax[0].set_xlim(-1.5,1.5)\n",
    "_=ax[1].hist(baseline_model.bu, bins=20, alpha=0.5) \n",
    "_=ax[1].set_xlabel('User bias')\n",
    "_=ax[1].set_ylabel('Frequency')\n",
    "_=ax[1].set_title('Distribution of user bias')\n",
    "_=ax[1].set_xlim(-1.5,1.5)"
   ]
  },
  {
   "cell_type": "markdown",
   "id": "820d4896",
   "metadata": {},
   "source": [
    "> 6. These bias values are approximately Normally distributed, but with somewhat heavy tails. Examine the range of these biases. What does the fact that these ranges are small compared to the range of ratings tell you about the magnitude of the bias adjustments?    \n",
    "> 7. Ideally, the biases should be uniformly distributed with identifier. In other words, statistically independent of the identifiers. Execute the code to display the relationship.  "
   ]
  },
  {
   "cell_type": "markdown",
   "id": "accompanied-textbook",
   "metadata": {},
   "source": [
    "6. It tells me that the magnitude of the bias adjustments is pretty large."
   ]
  },
  {
   "cell_type": "code",
   "execution_count": 11,
   "id": "2ea4f961",
   "metadata": {},
   "outputs": [
    {
     "data": {
      "image/png": "[encoded data removed]",
      "text/plain": [
       "<Figure size 1080x288 with 2 Axes>"
      ]
     },
     "metadata": {
      "needs_background": "light"
     },
     "output_type": "display_data"
    }
   ],
   "source": [
    "## plot the biases\n",
    "fig,ax= plt.subplots(1,2,figsize=(15,4))\n",
    "_=ax[0].scatter(range(len(baseline_model.bi)), baseline_model.bi) \n",
    "_=ax[0].set_xlabel('Item identifier')\n",
    "_=ax[0].set_ylabel('Bias value')\n",
    "_=ax[0].set_title('Item bias vs. item identifier')\n",
    "_=ax[1].scatter(range(len(baseline_model.bu)), baseline_model.bu) \n",
    "_=ax[1].set_xlabel('User identifier')\n",
    "_=ax[1].set_ylabel('Bias value')\n",
    "_=ax[1].set_title('User bias vs. user identifier')"
   ]
  },
  {
   "cell_type": "markdown",
   "id": "b12326c3",
   "metadata": {},
   "source": [
    "> 8. Examine these plots. Do the distributions look largely uniform with identifier or not?  "
   ]
  },
  {
   "cell_type": "markdown",
   "id": "neural-experiment",
   "metadata": {},
   "source": [
    "8. The User bias plot looks larely uniform. \n",
    "\n",
    "This could just be me, but I think the item bias chart looks like a cone shape where the range in the amount of item bias is compressing as the item identifier increases. The range of bias values for items 1250 and up looks much tighter than the range of values from 1 to 1250."
   ]
  },
  {
   "cell_type": "markdown",
   "id": "f394b431",
   "metadata": {},
   "source": [
    "## Collaborative Filtering Model  \n",
    "\n",
    "The collaborative filtering model is an unsupervised learning model using similarity item-item or user-user similarity measures. Items with the highest similarity measures are recommended.  "
   ]
  },
  {
   "cell_type": "markdown",
   "id": "f1cbee48",
   "metadata": {},
   "source": [
    "> **Exercise 06-3:** You will now create and evaluate a baseline recommender model. Do the following:   \n",
    "> 1. Instantiate a [surprise.prediction_algorithms.knns.KNNBasic](https://surprise.readthedocs.io/en/stable/knn_inspired.html) model object and it with the `fit` method using the `ml_testset` as the argument. Name your model object `collaborative_filter_model`.  \n",
    "> 2. Compute the recommender predictions with the `test` method using the `ml_trainset` as the argument.   \n",
    "> 3. Compute and print the RMSE using `surprise.accuracy.rmse` and MAE using `surprise.accuracy.mae` with the predictions as the argument in both cases.  "
   ]
  },
  {
   "cell_type": "code",
   "execution_count": 12,
   "id": "472e0513",
   "metadata": {},
   "outputs": [
    {
     "name": "stdout",
     "output_type": "stream",
     "text": [
      "Computing the msd similarity matrix...\n",
      "Done computing similarity matrix.\n",
      "RMSE: 0.9676\n",
      "MAE:  0.7636\n"
     ]
    }
   ],
   "source": [
    "## Instantiate the model object and fit to the training data  \n",
    "collaborative_filter_model = KNNBasic()\n",
    "collaborative_filter_model.fit(ml_trainset)\n",
    "\n",
    "## Compute the predicitons from the model \n",
    "collaborative_filter_model_predictions = collaborative_filter_model.test(ml_testset)\n",
    "\n",
    "\n",
    "# Compute some model performance statistics\n",
    "collaborative_filter_model_RMSE = accuracy.rmse(collaborative_filter_model_predictions)\n",
    "collaborative_filter_model_MAE = accuracy.mae(collaborative_filter_model_predictions)\n",
    "\n"
   ]
  },
  {
   "cell_type": "markdown",
   "id": "0a130312",
   "metadata": {},
   "source": [
    "> 4. Compare the performance of this model to the baseline model. Is it better or worse? Keeping in mind that the rating sampling is more dense that a real-world example, what does this tell you about the effectiveness of a baseline model vs. the model based on similarity.    \n",
    "> 5. The distribution of the similarities gives insight into the behavior of the model. Execute the code in the to display the histogram of the user-user similarity measures.     "
   ]
  },
  {
   "cell_type": "markdown",
   "id": "listed-humanity",
   "metadata": {},
   "source": [
    "4. The performance of the similarity model is slightly better than the performance of the baseline model. This tells me that a baseline model is already fairly effective, but utilizing similarity can be an even more effective tool for getting slightly more performance."
   ]
  },
  {
   "cell_type": "code",
   "execution_count": 13,
   "id": "bf7db96b",
   "metadata": {},
   "outputs": [
    {
     "data": {
      "image/png": "[encoded data removed]",
      "text/plain": [
       "<Figure size 432x288 with 1 Axes>"
      ]
     },
     "metadata": {
      "needs_background": "light"
     },
     "output_type": "display_data"
    }
   ],
   "source": [
    "_=plt.hist(collaborative_filter_model.sim.flatten(), bins=40, alpha=0.5)"
   ]
  },
  {
   "cell_type": "markdown",
   "id": "34716d92",
   "metadata": {},
   "source": [
    "> 6. Examine the plot. Notice there are a number of similarities which are or are close to 0 or 1. Is the distribution of these similarities skewed? If so, what does this skew tell you about how strong a predictor similarity can be in this case.    \n",
    "> **End of exercise.**"
   ]
  },
  {
   "cell_type": "markdown",
   "id": "sonic-skiing",
   "metadata": {},
   "source": [
    "6. It looks like the distribution of the similarities is skewed to the right. I think this skew is telling us that similarity is not a very strrong predictor in this instnace. I think this is happening becuase the rating sampling is very dense so the ability of the model to calculate useful similarites between users is limited. This type of model is less useful in this case and it expplains why its performance is similar to the baseline model's performance."
   ]
  },
  {
   "cell_type": "markdown",
   "id": "49f7c1c1",
   "metadata": {},
   "source": [
    "## Matrix Factorization Methods   \n",
    "\n",
    "Matrix factorization algorithms are generally considered to be the state of the art for recommenders. The matrix factorization methods find a set of latent (non-observable) factor variable values, which are used to compute rating estimates. Additionally, user and item rating bias adjustments are applied.    "
   ]
  },
  {
   "cell_type": "markdown",
   "id": "52747377",
   "metadata": {},
   "source": [
    "> **Exercise 06-4:** You will now create and evaluate a baseline recommender model. Do the following:   \n",
    "> 1. Instantiate a [surprise.prediction_algorithms.matrix_factorization.SVD](https://surprise.readthedocs.io/en/stable/matrix_factorization.html) model object and it with the `fit` method using the `ml_testset` as the argument. Name your model object `collaborative_filter_model`.  \n",
    "> 2. Compute the recommender predictions with the `test` method using the `ml_trainset` as the argument.   \n",
    "> 3. Compute and print the RMSE using `surprise.accuracy.rmse` and MAE using `surprise.accuracy.mae` with the predictions as the argument in both cases.  "
   ]
  },
  {
   "cell_type": "code",
   "execution_count": 14,
   "id": "2c5acf53",
   "metadata": {},
   "outputs": [
    {
     "name": "stdout",
     "output_type": "stream",
     "text": [
      "RMSE: 0.9286\n",
      "MAE:  0.7310\n"
     ]
    }
   ],
   "source": [
    "## Instantiate the model object and fit to the training data  \n",
    "svd_model = SVD()\n",
    "svd_model.fit(ml_trainset)\n",
    "\n",
    "## Compute the predicitons from the model \n",
    "svd_model_predictions = svd_model.test(ml_testset)\n",
    "\n",
    "\n",
    "# Compute some model performance statistics\n",
    "svd_model_RMSE = accuracy.rmse(svd_model_predictions)\n",
    "svd_model_MAE = accuracy.mae(svd_model_predictions)\n",
    "\n"
   ]
  },
  {
   "cell_type": "markdown",
   "id": "76cd2919",
   "metadata": {},
   "source": [
    "> 4. Compare the performance of this model to the baseline model. Is it better or worse? Keeping in mind that the rating sampling is more dense that a real-world example, what does this tell you about the effectiveness of a baseline model vs. the model based on latent factors.    \n",
    "> 5. The distribution of the item and factor values gives insight into the behavior of the model. Execute the code in the to display the histograms of the factors for items and users.     "
   ]
  },
  {
   "cell_type": "markdown",
   "id": "killing-mortality",
   "metadata": {},
   "source": [
    "4. Compared to the baseline model, the SVD model performed slightly worse. I am assuming that this is because of the density of the rating sampling. I bet if there was more sparsity in the number of ratings then the svd model would perform better compared to the baseline model."
   ]
  },
  {
   "cell_type": "code",
   "execution_count": 15,
   "id": "b6bd4f30",
   "metadata": {},
   "outputs": [
    {
     "name": "stdout",
     "output_type": "stream",
     "text": [
      "Shape of item factor matrix: (1654, 100)\n",
      "Shape of user factor matrix: (943, 100)\n"
     ]
    },
    {
     "data": {
      "image/png": "[encoded data removed]",
      "text/plain": [
       "<Figure size 1080x288 with 2 Axes>"
      ]
     },
     "metadata": {
      "needs_background": "light"
     },
     "output_type": "display_data"
    }
   ],
   "source": [
    "print('Shape of item factor matrix: {}'.format(svd_model.qi.shape))\n",
    "print('Shape of user factor matrix: {}'.format(svd_model.pu.shape))\n",
    "\n",
    "## Create a histograms of the factor values\n",
    "fig,ax= plt.subplots(1,2,figsize=(15,4))\n",
    "_=ax[0].hist(svd_model.qi.flatten(), bins=20, alpha=0.5) \n",
    "_=ax[0].set_xlabel('Item factor values')\n",
    "_=ax[0].set_ylabel('Frequency')\n",
    "_=ax[0].set_title('Distribution of item factor values')\n",
    "_=ax[0].set_xlim(-.75,.75)\n",
    "_=ax[1].hist(svd_model.pu.flatten(), bins=20, alpha=0.5) \n",
    "_=ax[1].set_xlabel('User factor values')\n",
    "_=ax[1].set_ylabel('Frequency')\n",
    "_=ax[1].set_title('Distribution of user factor values')\n",
    "_=ax[1].set_xlim(-.75,.75)"
   ]
  },
  {
   "cell_type": "markdown",
   "id": "e046cf72",
   "metadata": {},
   "source": [
    "> 6. Notice the compact representation of the factors computed. Do you expect this representation to be compact compared to the original data set?     \n",
    "> 7. Examine the distribution of the factor values. Compare these values to the distribution of bias values for the Baseline model. What does the fact that these ranges are small compared to the range of bias values tell you about the effect these values will have on the predictions of the latent variable model?     \n",
    "> **End of exercise.**"
   ]
  },
  {
   "cell_type": "markdown",
   "id": "interior-uganda",
   "metadata": {},
   "source": [
    "6. Yes, I do expect these values to be compact compared to the original dataset. There is regularization occuring to constrain the factor values.\n",
    "\n",
    "7. The fact that the ranges are small means that a fair amount of regularization is occuring to constrain the factor values. This regularization comes at the cost of introducing more bias into the predictions of the model."
   ]
  },
  {
   "cell_type": "markdown",
   "id": "2cfda811",
   "metadata": {},
   "source": [
    "#### Copyright 2021, Stephen F Elston. All rights reserved. "
   ]
  }
 ],
 "metadata": {
  "kernelspec": {
   "display_name": "Python 3",
   "language": "python",
   "name": "python3"
  },
  "language_info": {
   "codemirror_mode": {
    "name": "ipython",
    "version": 3
   },
   "file_extension": ".py",
   "mimetype": "text/x-python",
   "name": "python",
   "nbconvert_exporter": "python",
   "pygments_lexer": "ipython3",
   "version": "3.8.6"
  }
 },
 "nbformat": 4,
 "nbformat_minor": 5
}
